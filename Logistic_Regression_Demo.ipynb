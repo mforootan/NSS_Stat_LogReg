{
 "cells": [
  {
   "cell_type": "markdown",
   "metadata": {},
   "source": [
    "# Definition\n",
    "Logistic regression is used to describe data and to explain the relationship between one dependent **binary** variable and one or more nominal, ordinal, interval or ratio-level independent variables. Unlike actual regression, logistic regression does not try to predict the value of a numeric variable given a set of inputs. Instead, the output is a **probability** that the given input point belongs to a certain class.\n",
    "\n",
    "**Type of questions that a binary logistic regression can examine:**\n",
    "\n",
    "* How does the probability of getting lung cancer (yes vs. no) change for every additional pound a person is overweight and for every pack of cigarettes smoked per day?\n",
    "* Do body weight, calorie intake, fat intake, and age have an influence on the probability of having a heart attack (yes vs. no)?\n",
    "\n",
    "**Why not use Linear Regression?**\n",
    "\n",
    "The central premise of Logistic Regression is the assumption that your input space can be separated into two nice ‘regions’, one for each class, by a straight boundary. If we fit best found regression line, it still won’t be enough to decide any point by which we can differentiate classes, especially in presence of outlier data. It will put some positive class examples into negative class.\n",
    "\n",
    "### Further Reads\n",
    "\n",
    "1. https://towardsdatascience.com/logistic-regression-detailed-overview-46c4da4303bc\n",
    "2. https://en.wikipedia.org/wiki/Logistic_regression\n",
    "3. https://towardsdatascience.com/understanding-logistic-regression-9b02c2aec102\n",
    "4. https://codesachin.wordpress.com/2015/08/16/logistic-regression-for-dummies/\n",
    "5. https://towardsdatascience.com/breaking-it-down-logistic-regression-e5c3f1450bd"
   ]
  },
  {
   "cell_type": "markdown",
   "metadata": {},
   "source": [
    "# Logistic Regression Demo"
   ]
  },
  {
   "cell_type": "markdown",
   "metadata": {},
   "source": [
    "#### Generic Libraries"
   ]
  },
  {
   "cell_type": "code",
   "execution_count": 4,
   "metadata": {
    "collapsed": true,
    "jupyter": {
     "outputs_hidden": true
    }
   },
   "outputs": [],
   "source": [
    "import pandas as pd\n",
    "import numpy as np\n",
    "import matplotlib.pyplot as plt \n",
    "plt.rc(\"font\", size=20)"
   ]
  },
  {
   "cell_type": "markdown",
   "metadata": {},
   "source": [
    "#### Sample data from Ref #2"
   ]
  },
  {
   "cell_type": "code",
   "execution_count": 5,
   "metadata": {},
   "outputs": [
    {
     "data": {
      "text/html": [
       "<div>\n",
       "<style>\n",
       "    .dataframe thead tr:only-child th {\n",
       "        text-align: right;\n",
       "    }\n",
       "\n",
       "    .dataframe thead th {\n",
       "        text-align: left;\n",
       "    }\n",
       "\n",
       "    .dataframe tbody tr th {\n",
       "        vertical-align: top;\n",
       "    }\n",
       "</style>\n",
       "<table border=\"1\" class=\"dataframe\">\n",
       "  <thead>\n",
       "    <tr style=\"text-align: right;\">\n",
       "      <th></th>\n",
       "      <th>explanatory</th>\n",
       "      <th>response</th>\n",
       "    </tr>\n",
       "  </thead>\n",
       "  <tbody>\n",
       "    <tr>\n",
       "      <th>0</th>\n",
       "      <td>0.50</td>\n",
       "      <td>0</td>\n",
       "    </tr>\n",
       "    <tr>\n",
       "      <th>1</th>\n",
       "      <td>0.75</td>\n",
       "      <td>0</td>\n",
       "    </tr>\n",
       "    <tr>\n",
       "      <th>2</th>\n",
       "      <td>1.00</td>\n",
       "      <td>0</td>\n",
       "    </tr>\n",
       "    <tr>\n",
       "      <th>3</th>\n",
       "      <td>1.25</td>\n",
       "      <td>0</td>\n",
       "    </tr>\n",
       "    <tr>\n",
       "      <th>4</th>\n",
       "      <td>1.50</td>\n",
       "      <td>0</td>\n",
       "    </tr>\n",
       "    <tr>\n",
       "      <th>5</th>\n",
       "      <td>1.75</td>\n",
       "      <td>0</td>\n",
       "    </tr>\n",
       "    <tr>\n",
       "      <th>6</th>\n",
       "      <td>1.75</td>\n",
       "      <td>1</td>\n",
       "    </tr>\n",
       "    <tr>\n",
       "      <th>7</th>\n",
       "      <td>2.00</td>\n",
       "      <td>0</td>\n",
       "    </tr>\n",
       "    <tr>\n",
       "      <th>8</th>\n",
       "      <td>2.25</td>\n",
       "      <td>1</td>\n",
       "    </tr>\n",
       "    <tr>\n",
       "      <th>9</th>\n",
       "      <td>2.50</td>\n",
       "      <td>0</td>\n",
       "    </tr>\n",
       "    <tr>\n",
       "      <th>10</th>\n",
       "      <td>2.75</td>\n",
       "      <td>1</td>\n",
       "    </tr>\n",
       "    <tr>\n",
       "      <th>11</th>\n",
       "      <td>3.00</td>\n",
       "      <td>0</td>\n",
       "    </tr>\n",
       "    <tr>\n",
       "      <th>12</th>\n",
       "      <td>3.25</td>\n",
       "      <td>1</td>\n",
       "    </tr>\n",
       "    <tr>\n",
       "      <th>13</th>\n",
       "      <td>3.50</td>\n",
       "      <td>0</td>\n",
       "    </tr>\n",
       "    <tr>\n",
       "      <th>14</th>\n",
       "      <td>4.00</td>\n",
       "      <td>1</td>\n",
       "    </tr>\n",
       "    <tr>\n",
       "      <th>15</th>\n",
       "      <td>4.25</td>\n",
       "      <td>1</td>\n",
       "    </tr>\n",
       "    <tr>\n",
       "      <th>16</th>\n",
       "      <td>4.50</td>\n",
       "      <td>1</td>\n",
       "    </tr>\n",
       "    <tr>\n",
       "      <th>17</th>\n",
       "      <td>4.75</td>\n",
       "      <td>1</td>\n",
       "    </tr>\n",
       "    <tr>\n",
       "      <th>18</th>\n",
       "      <td>5.00</td>\n",
       "      <td>1</td>\n",
       "    </tr>\n",
       "    <tr>\n",
       "      <th>19</th>\n",
       "      <td>5.50</td>\n",
       "      <td>1</td>\n",
       "    </tr>\n",
       "  </tbody>\n",
       "</table>\n",
       "</div>"
      ],
      "text/plain": [
       "    explanatory  response\n",
       "0          0.50         0\n",
       "1          0.75         0\n",
       "2          1.00         0\n",
       "3          1.25         0\n",
       "4          1.50         0\n",
       "5          1.75         0\n",
       "6          1.75         1\n",
       "7          2.00         0\n",
       "8          2.25         1\n",
       "9          2.50         0\n",
       "10         2.75         1\n",
       "11         3.00         0\n",
       "12         3.25         1\n",
       "13         3.50         0\n",
       "14         4.00         1\n",
       "15         4.25         1\n",
       "16         4.50         1\n",
       "17         4.75         1\n",
       "18         5.00         1\n",
       "19         5.50         1"
      ]
     },
     "execution_count": 5,
     "metadata": {},
     "output_type": "execute_result"
    }
   ],
   "source": [
    "wiki_logreg= {'explanatory': [0.5, 0.75, 1, 1.25, 1.5, 1.75, 1.75, 2, 2.25, 2.5, 2.75, 3, 3.25, 3.5, 4, 4.25, 4.5, 4.75, 5, 5.5], \n",
    "                       'response':[0, 0, 0, 0, 0, 0, 1, 0, 1, 0, 1, 0, 1, 0, 1, 1, 1, 1, 1, 1]}\n",
    "logreg_df = pd.DataFrame.from_dict(wiki_logreg)\n",
    "logreg_df"
   ]
  },
  {
   "cell_type": "markdown",
   "metadata": {},
   "source": [
    "#### Plot the data"
   ]
  },
  {
   "cell_type": "code",
   "execution_count": 6,
   "metadata": {},
   "outputs": [
    {
     "data": {
      "image/png": "[encoded data removed]",
      "text/plain": [
       "<matplotlib.figure.Figure at 0x10d9a9f28>"
      ]
     },
     "metadata": {},
     "output_type": "display_data"
    }
   ],
   "source": [
    "expl = logreg_df.iloc[:,0]\n",
    "resp = logreg_df.iloc[:,1]\n",
    "_ = plt.plot(expl, resp, marker='o', linestyle='none')\n",
    "\n",
    "# Label axes, set the margins, and show the plot\n",
    "_ = plt.xlabel('explanatory')\n",
    "_ = plt.ylabel('response')\n",
    "plt.margins(0.02)\n",
    "plt.show()"
   ]
  },
  {
   "cell_type": "markdown",
   "metadata": {},
   "source": [
    "#### Create the model using statmodels.api"
   ]
  },
  {
   "cell_type": "code",
   "execution_count": 7,
   "metadata": {},
   "outputs": [
    {
     "name": "stderr",
     "output_type": "stream",
     "text": [
      "/Users/ghfmhf/anaconda3/lib/python3.6/site-packages/statsmodels/compat/pandas.py:56: FutureWarning: The pandas.core.datetools module is deprecated and will be removed in a future version. Please use the pandas.tseries module instead.\n",
      "  from pandas.core import datetools\n"
     ]
    },
    {
     "name": "stdout",
     "output_type": "stream",
     "text": [
      "Optimization terminated successfully.\n",
      "         Current function value: 0.401494\n",
      "         Iterations: 11\n",
      "         Function evaluations: 14\n",
      "         Gradient evaluations: 14\n",
      "                           Logit Regression Results                           \n",
      "==============================================================================\n",
      "Dep. Variable:               response   No. Observations:                   20\n",
      "Model:                          Logit   Df Residuals:                       18\n",
      "Method:                           MLE   Df Model:                            1\n",
      "Date:                Sat, 14 Apr 2018   Pseudo R-squ.:                  0.4208\n",
      "Time:                        08:55:14   Log-Likelihood:                -8.0299\n",
      "converged:                       True   LL-Null:                       -13.863\n",
      "                                        LLR p-value:                 0.0006365\n",
      "===============================================================================\n",
      "                  coef    std err          z      P>|z|      [0.025      0.975]\n",
      "-------------------------------------------------------------------------------\n",
      "const          -4.0777      1.761     -2.316      0.021      -7.529      -0.626\n",
      "explanatory     1.5046      0.629      2.393      0.017       0.272       2.737\n",
      "===============================================================================\n"
     ]
    }
   ],
   "source": [
    "import statsmodels.api as sm\n",
    "\n",
    "x = sm.add_constant(expl)\n",
    "y = resp\n",
    "\n",
    "logit_model=sm.Logit(y, x)\n",
    "\n",
    "result=logit_model.fit(method='bfgs', maxiter=1000)\n",
    "\n",
    "print(result.summary())"
   ]
  },
  {
   "cell_type": "code",
   "execution_count": 8,
   "metadata": {},
   "outputs": [
    {
     "name": "stdout",
     "output_type": "stream",
     "text": [
      "intercept:  -4.07771408355\n",
      "slope:  1.50464686157\n"
     ]
    }
   ],
   "source": [
    "# Coefficients can be exported\n",
    "\n",
    "b0 = result.params[0]\n",
    "b1 = result.params[1]\n",
    "print(\"intercept: \",b0)\n",
    "print(\"slope: \",b1)"
   ]
  },
  {
   "cell_type": "markdown",
   "metadata": {},
   "source": [
    "#### Calculating the probability for the explanatory data"
   ]
  },
  {
   "cell_type": "code",
   "execution_count": 9,
   "metadata": {},
   "outputs": [
    {
     "data": {
      "text/html": [
       "<div>\n",
       "<style>\n",
       "    .dataframe thead tr:only-child th {\n",
       "        text-align: right;\n",
       "    }\n",
       "\n",
       "    .dataframe thead th {\n",
       "        text-align: left;\n",
       "    }\n",
       "\n",
       "    .dataframe tbody tr th {\n",
       "        vertical-align: top;\n",
       "    }\n",
       "</style>\n",
       "<table border=\"1\" class=\"dataframe\">\n",
       "  <thead>\n",
       "    <tr style=\"text-align: right;\">\n",
       "      <th></th>\n",
       "      <th>explanatory</th>\n",
       "      <th>response</th>\n",
       "      <th>p</th>\n",
       "    </tr>\n",
       "  </thead>\n",
       "  <tbody>\n",
       "    <tr>\n",
       "      <th>0</th>\n",
       "      <td>0.50</td>\n",
       "      <td>0</td>\n",
       "      <td>0.034710</td>\n",
       "    </tr>\n",
       "    <tr>\n",
       "      <th>1</th>\n",
       "      <td>0.75</td>\n",
       "      <td>0</td>\n",
       "      <td>0.049773</td>\n",
       "    </tr>\n",
       "    <tr>\n",
       "      <th>2</th>\n",
       "      <td>1.00</td>\n",
       "      <td>0</td>\n",
       "      <td>0.070892</td>\n",
       "    </tr>\n",
       "    <tr>\n",
       "      <th>3</th>\n",
       "      <td>1.25</td>\n",
       "      <td>0</td>\n",
       "      <td>0.100029</td>\n",
       "    </tr>\n",
       "    <tr>\n",
       "      <th>4</th>\n",
       "      <td>1.50</td>\n",
       "      <td>0</td>\n",
       "      <td>0.139345</td>\n",
       "    </tr>\n",
       "    <tr>\n",
       "      <th>5</th>\n",
       "      <td>1.75</td>\n",
       "      <td>0</td>\n",
       "      <td>0.190837</td>\n",
       "    </tr>\n",
       "    <tr>\n",
       "      <th>6</th>\n",
       "      <td>1.75</td>\n",
       "      <td>1</td>\n",
       "      <td>0.190837</td>\n",
       "    </tr>\n",
       "    <tr>\n",
       "      <th>7</th>\n",
       "      <td>2.00</td>\n",
       "      <td>0</td>\n",
       "      <td>0.255704</td>\n",
       "    </tr>\n",
       "    <tr>\n",
       "      <th>8</th>\n",
       "      <td>2.25</td>\n",
       "      <td>1</td>\n",
       "      <td>0.333531</td>\n",
       "    </tr>\n",
       "    <tr>\n",
       "      <th>9</th>\n",
       "      <td>2.50</td>\n",
       "      <td>0</td>\n",
       "      <td>0.421627</td>\n",
       "    </tr>\n",
       "    <tr>\n",
       "      <th>10</th>\n",
       "      <td>2.75</td>\n",
       "      <td>1</td>\n",
       "      <td>0.515012</td>\n",
       "    </tr>\n",
       "    <tr>\n",
       "      <th>11</th>\n",
       "      <td>3.00</td>\n",
       "      <td>0</td>\n",
       "      <td>0.607360</td>\n",
       "    </tr>\n",
       "    <tr>\n",
       "      <th>12</th>\n",
       "      <td>3.25</td>\n",
       "      <td>1</td>\n",
       "      <td>0.692618</td>\n",
       "    </tr>\n",
       "    <tr>\n",
       "      <th>13</th>\n",
       "      <td>3.50</td>\n",
       "      <td>0</td>\n",
       "      <td>0.766482</td>\n",
       "    </tr>\n",
       "    <tr>\n",
       "      <th>14</th>\n",
       "      <td>4.00</td>\n",
       "      <td>1</td>\n",
       "      <td>0.874448</td>\n",
       "    </tr>\n",
       "    <tr>\n",
       "      <th>15</th>\n",
       "      <td>4.25</td>\n",
       "      <td>1</td>\n",
       "      <td>0.910278</td>\n",
       "    </tr>\n",
       "    <tr>\n",
       "      <th>16</th>\n",
       "      <td>4.50</td>\n",
       "      <td>1</td>\n",
       "      <td>0.936624</td>\n",
       "    </tr>\n",
       "    <tr>\n",
       "      <th>17</th>\n",
       "      <td>4.75</td>\n",
       "      <td>1</td>\n",
       "      <td>0.955611</td>\n",
       "    </tr>\n",
       "    <tr>\n",
       "      <th>18</th>\n",
       "      <td>5.00</td>\n",
       "      <td>1</td>\n",
       "      <td>0.969097</td>\n",
       "    </tr>\n",
       "    <tr>\n",
       "      <th>19</th>\n",
       "      <td>5.50</td>\n",
       "      <td>1</td>\n",
       "      <td>0.985195</td>\n",
       "    </tr>\n",
       "  </tbody>\n",
       "</table>\n",
       "</div>"
      ],
      "text/plain": [
       "    explanatory  response         p\n",
       "0          0.50         0  0.034710\n",
       "1          0.75         0  0.049773\n",
       "2          1.00         0  0.070892\n",
       "3          1.25         0  0.100029\n",
       "4          1.50         0  0.139345\n",
       "5          1.75         0  0.190837\n",
       "6          1.75         1  0.190837\n",
       "7          2.00         0  0.255704\n",
       "8          2.25         1  0.333531\n",
       "9          2.50         0  0.421627\n",
       "10         2.75         1  0.515012\n",
       "11         3.00         0  0.607360\n",
       "12         3.25         1  0.692618\n",
       "13         3.50         0  0.766482\n",
       "14         4.00         1  0.874448\n",
       "15         4.25         1  0.910278\n",
       "16         4.50         1  0.936624\n",
       "17         4.75         1  0.955611\n",
       "18         5.00         1  0.969097\n",
       "19         5.50         1  0.985195"
      ]
     },
     "execution_count": 9,
     "metadata": {},
     "output_type": "execute_result"
    }
   ],
   "source": [
    "logreg_df['p']= 1 / (1 + np.exp(-(b0  +b1*expl)))\n",
    "\n",
    "logreg_df"
   ]
  },
  {
   "cell_type": "markdown",
   "metadata": {},
   "source": [
    "#### Compare the data with the model"
   ]
  },
  {
   "cell_type": "code",
   "execution_count": 10,
   "metadata": {},
   "outputs": [
    {
     "data": {
      "image/png": "[encoded data removed]",
      "text/plain": [
       "<matplotlib.figure.Figure at 0x1c183ea9b0>"
      ]
     },
     "metadata": {},
     "output_type": "display_data"
    }
   ],
   "source": [
    "expl = logreg_df.iloc[:,0]\n",
    "resp = logreg_df.iloc[:,1]\n",
    "esti = logreg_df.iloc[:,2]\n",
    "\n",
    "_ = plt.plot(expl, resp, marker='o', linestyle='none', color = 'blue')\n",
    "_ = plt.plot(expl, esti, linestyle='-', color = 'red')\n",
    "\n",
    "\n",
    "# Label axes, set the margins, and show the plot\n",
    "_ = plt.xlabel('explanatory')\n",
    "_ = plt.ylabel('response')\n",
    "plt.margins(0.02)\n",
    "plt.show()"
   ]
  }
 ],
 "metadata": {
  "kernelspec": {
   "display_name": "Python 3 (ipykernel)",
   "language": "python",
   "name": "python3"
  },
  "language_info": {
   "codemirror_mode": {
    "name": "ipython",
    "version": 3
   },
   "file_extension": ".py",
   "mimetype": "text/x-python",
   "name": "python",
   "nbconvert_exporter": "python",
   "pygments_lexer": "ipython3",
   "version": "3.9.13"
  }
 },
 "nbformat": 4,
 "nbformat_minor": 4
}
